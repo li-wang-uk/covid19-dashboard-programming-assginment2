{
 "cells": [
  {
   "cell_type": "markdown",
   "metadata": {},
   "source": [
    "DIY Covid-19 Dashboard Li Wang (l.wang@se20.qmul.ac.uk Student Number: 200149271) All rights reserved."
   ]
  },
  {
   "source": [
    "# DIY Covid-19 Dashboard"
   ],
   "cell_type": "markdown",
   "metadata": {}
  },
  {
   "source": [
    "\n",
    "NewCases:  New Cases By Publish Date\n",
    "\n",
    "CurriedTests: :New Tests By Publish Date\n",
    "\n",
    "PlanedTested : Planned Capacity By Publish Date"
   ],
   "cell_type": "markdown",
   "metadata": {}
  },
  {
   "cell_type": "code",
   "execution_count": 35,
   "metadata": {},
   "outputs": [],
   "source": [
    "import ipywidgets as wdg\n",
    "import pandas as pd\n",
    "import numpy as np\n",
    "import matplotlib.pyplot as plt\n",
    "import json\n",
    "from uk_covid19 import Cov19API\n",
    "%matplotlib inline\n",
    "# make figures larger\n",
    "plt.rcParams['figure.dpi'] = 100"
   ]
  },
  {
   "cell_type": "code",
   "execution_count": 58,
   "metadata": {},
   "outputs": [],
   "source": [
    "## Load initial data \n",
    "def loaddata1():\n",
    "    with open(\"testsdistribution.json\", \"rt\") as INFIFLE1:\n",
    "        data1 =json.load(INFIFLE1)"
   ]
  },
  {
   "cell_type": "code",
   "execution_count": 59,
   "metadata": {},
   "outputs": [
    {
     "output_type": "error",
     "ename": "NameError",
     "evalue": "name 'data1' is not defined",
     "traceback": [
      "\u001b[1;31m---------------------------------------------------------------------------\u001b[0m",
      "\u001b[1;31mNameError\u001b[0m                                 Traceback (most recent call last)",
      "\u001b[1;32m<ipython-input-59-e5beec7c3f3c>\u001b[0m in \u001b[0;36m<module>\u001b[1;34m\u001b[0m\n\u001b[0;32m     21\u001b[0m     \u001b[0mtimeseriesdf1\u001b[0m\u001b[1;33m.\u001b[0m\u001b[0mto_pickle\u001b[0m\u001b[1;33m(\u001b[0m\u001b[1;34m\"timeseriesdf1.pkl\"\u001b[0m\u001b[1;33m)\u001b[0m\u001b[1;33m\u001b[0m\u001b[1;33m\u001b[0m\u001b[0m\n\u001b[0;32m     22\u001b[0m \u001b[1;33m\u001b[0m\u001b[0m\n\u001b[1;32m---> 23\u001b[1;33m \u001b[0mwrangledata1\u001b[0m\u001b[1;33m(\u001b[0m\u001b[1;33m)\u001b[0m\u001b[1;33m\u001b[0m\u001b[1;33m\u001b[0m\u001b[0m\n\u001b[0m",
      "\u001b[1;32m<ipython-input-59-e5beec7c3f3c>\u001b[0m in \u001b[0;36mwrangledata1\u001b[1;34m()\u001b[0m\n\u001b[0;32m      5\u001b[0m \u001b[1;33m\u001b[0m\u001b[0m\n\u001b[0;32m      6\u001b[0m \u001b[1;32mdef\u001b[0m \u001b[0mwrangledata1\u001b[0m\u001b[1;33m(\u001b[0m\u001b[1;33m)\u001b[0m\u001b[1;33m:\u001b[0m\u001b[1;33m\u001b[0m\u001b[1;33m\u001b[0m\u001b[0m\n\u001b[1;32m----> 7\u001b[1;33m     \u001b[0mdatalist1\u001b[0m \u001b[1;33m=\u001b[0m\u001b[0mdata1\u001b[0m\u001b[1;33m[\u001b[0m\u001b[1;34m'data'\u001b[0m\u001b[1;33m]\u001b[0m\u001b[1;33m\u001b[0m\u001b[1;33m\u001b[0m\u001b[0m\n\u001b[0m\u001b[0;32m      8\u001b[0m     \u001b[0mdates1\u001b[0m \u001b[1;33m=\u001b[0m \u001b[1;33m[\u001b[0m\u001b[0mdictionary\u001b[0m \u001b[1;33m[\u001b[0m\u001b[1;34m'date'\u001b[0m\u001b[1;33m]\u001b[0m \u001b[1;32mfor\u001b[0m \u001b[0mdictionary\u001b[0m \u001b[1;32min\u001b[0m \u001b[0mdatalist1\u001b[0m \u001b[1;33m]\u001b[0m\u001b[1;33m\u001b[0m\u001b[1;33m\u001b[0m\u001b[0m\n\u001b[0;32m      9\u001b[0m     \u001b[0mdates1\u001b[0m\u001b[1;33m.\u001b[0m\u001b[0msort\u001b[0m\u001b[1;33m(\u001b[0m\u001b[1;33m)\u001b[0m\u001b[1;33m\u001b[0m\u001b[1;33m\u001b[0m\u001b[0m\n",
      "\u001b[1;31mNameError\u001b[0m: name 'data1' is not defined"
     ]
    }
   ],
   "source": [
    "## Wrangle the data\n",
    "loaddata1()\n",
    "def parse_date1 (datestring):\n",
    "    return pd.to_datetime(datestring, format=\"%Y-%m-%d\")\n",
    "\n",
    "def wrangledata1():\n",
    "    datalist1 =data1['data']\n",
    "    dates1 = [dictionary ['date'] for dictionary in datalist1 ]\n",
    "    dates1.sort()\n",
    "    startdate1 =parse_date1(dates1[0])\n",
    "    enddate1 =parse_date1(dates1[-1])\n",
    "    index1 =pd.date_range(startdate1, enddate1, freq='D')\n",
    "    timeseriesdf1=pd.DataFrame(index=index1, columns=['NewCases','CurriedTests', 'PlanedTested'])\n",
    "    for entry in datalist1: \n",
    "        dates1=parse_date1(entry['date'])\n",
    "        for column in ['NewCases','CurriedTests', 'PlanedTested']:\n",
    "            if pd.isna(timeseriesdf1.loc[dates1, column]): \n",
    "                value1= float(entry[column]) if entry[column]!=None else 0.0\n",
    "                timeseriesdf1.loc[dates1, column]=value1\n",
    "    timeseriesdf1.fillna(0.0, inplace=True)\n",
    "    timeseriesdf1.to_pickle(\"timeseriesdf1.pkl\")\n",
    "\n",
    "wrangledata1()"
   ]
  },
  {
   "cell_type": "code",
   "execution_count": 44,
   "metadata": {},
   "outputs": [],
   "source": [
    "##update data\n",
    "def updatedata1():\n",
    "    filters1= [\n",
    "        'areaType=overview'\n",
    "    ]\n",
    "    structure1= {\n",
    "         \"date\":\"date\",\n",
    "         \"NewCases\":\"newCasesByPublishDate\",\n",
    "         \"CurriedTests\":\"newTestsByPublishDate\",\n",
    "         \"PlanedTested\":\"plannedCapacityByPublishDate\"\n",
    "          }\n",
    "    api2 = Cov19API (filters=filters1, structure=structure1)\n",
    "    testsdistribution=api2.get_json()\n",
    "    with open(\"testsdistribution.json\", \"wt\") as OUTF:\n",
    "         json.dump(testsdistribution, OUTF)"
   ]
  },
  {
   "cell_type": "code",
   "execution_count": 45,
   "metadata": {},
   "outputs": [],
   "source": [
    "##Button\n",
    "apibutton1=wdg.Button(\n",
    "    description='Update data',\n",
    "    disabled=False,\n",
    "    button_style='info', \n",
    "    tooltip='Click to download current Public Health England data',\n",
    "    icon='refresh' \n",
    ")"
   ]
  },
  {
   "cell_type": "code",
   "execution_count": 50,
   "metadata": {},
   "outputs": [
    {
     "output_type": "display_data",
     "data": {
      "text/plain": "Button(button_style='info', description='Update data', icon='refresh', style=ButtonStyle(), tooltip='Click to …",
      "application/vnd.jupyter.widget-view+json": {
       "version_major": 2,
       "version_minor": 0,
       "model_id": "0266abcc623c4caca2febd22e8021755"
      }
     },
     "metadata": {}
    },
    {
     "output_type": "display_data",
     "data": {
      "text/plain": "HBox(children=(Output(), VBox(children=(SelectMultiple(description='Stats:', index=(0, 1, 2), options=('NewCas…",
      "application/vnd.jupyter.widget-view+json": {
       "version_major": 2,
       "version_minor": 0,
       "model_id": "c59ef254e5cd4a55a8922f0d1112cb38"
      }
     },
     "metadata": {}
    }
   ],
   "source": [
    "## Graphs and Analysis222\n",
    "timeseriesdf1=pd.read_pickle(\"timeseriesdf1.pkl\")\n",
    "series1=wdg.SelectMultiple(\n",
    "    options=['NewCases', 'CurriedTests', 'PlanedTested'],\n",
    "    value=['NewCases', 'CurriedTests', 'PlanedTested'],\n",
    "    rows=3,\n",
    "    description='Stats:',\n",
    "    disabled=False\n",
    ")\n",
    "scale1=wdg.RadioButtons(\n",
    "    options=['linear', 'log'],\n",
    "    description='Scale:',\n",
    "    disabled=False\n",
    ")\n",
    "controls1=wdg.HBox([series1, scale1])\n",
    "def timeseries1_graph(gcols, gscale):\n",
    "    if gscale=='linear':\n",
    "        logscale=False\n",
    "    else:\n",
    "        logscale=True\n",
    "    ncols=len(gcols)\n",
    "    if ncols>0:\n",
    "        timeseriesdf1[list(gcols)].plot(logy=logscale)\n",
    "    else:\n",
    "        print(\"Click to select data for graph\")\n",
    "        print(\"(CTRL-Click to select more than one category)\")\n",
    "\n",
    "\n",
    "graph1=wdg.interactive_output(timeseries1_graph, {'gcols': series1, 'gscale': scale1})\n",
    "ctrls1=wdg.VBox([series1, scale1])\n",
    "form1=wdg.HBox([graph1, ctrls1])\n",
    "display(apibutton1)\n",
    "display(form1)\n",
    "\n"
   ]
  },
  {
   "cell_type": "code",
   "execution_count": 34,
   "metadata": {},
   "outputs": [
    {
     "output_type": "error",
     "ename": "SyntaxError",
     "evalue": "invalid syntax (<ipython-input-34-df51f4d447ca>, line 27)",
     "traceback": [
      "\u001b[1;36m  File \u001b[1;32m\"<ipython-input-34-df51f4d447ca>\"\u001b[1;36m, line \u001b[1;32m27\u001b[0m\n\u001b[1;33m    print(\"(CTRL-Click to select more than one category)\") display(apibutton1)\u001b[0m\n\u001b[1;37m                                                           ^\u001b[0m\n\u001b[1;31mSyntaxError\u001b[0m\u001b[1;31m:\u001b[0m invalid syntax\n"
     ]
    }
   ],
   "source": [
    "## Graphs and Analysis\n",
    "\n",
    "series1=wdg.SelectMultiple(\n",
    "        options=['NewCases', 'CurriedTests', 'PlanedTested'],\n",
    "        value=['NewCases', 'CurriedTests', 'PlanedTested'],\n",
    "        rows=3,\n",
    "        description='Stats:',\n",
    "        disabled=False\n",
    "    )\n",
    "scale1=wdg.RadioButtons(\n",
    "        options=['linear', 'log'],\n",
    "        description='Scale:',\n",
    "        disabled=False\n",
    "    )\n",
    "controls1=wdg.HBox([series1, scale1])\n",
    "\n",
    "def timeseries1_graph(gcols, gscale):\n",
    "    if gscale=='linear':\n",
    "        logscale=False\n",
    "    else:\n",
    "        logscale=True\n",
    "    ncols=len(gcols)\n",
    "    if ncols>0:\n",
    "        timeseriesdf1[list(gcols)].plot(logy=logscale)\n",
    "    else:\n",
    "        print(\"Click to select data for graph\")\n",
    "        print(\"(CTRL-Click to select more than one category)\") display(apibutton1)\n",
    "\n",
    "printgraphs()\n",
    "\n",
    "\n",
    "def access_api1(b):\n",
    "    updatedata1()\n",
    "    wrangledata1()\n",
    "    printgraphs()\n",
    "    current=scale1.value\n",
    "    if current==scale1.options[0]:\n",
    "        other=scale1.options[1]\n",
    "    else:\n",
    "        other=scale1.options[0]\n",
    "    scale1.value=other \n",
    "    scale1.value=current\n",
    "\n",
    "apibutton1.on_click(access_api1)\n",
    "\n",
    "\n"
   ]
  },
  {
   "cell_type": "code",
   "execution_count": 28,
   "metadata": {},
   "outputs": [
    {
     "output_type": "error",
     "ename": "NameError",
     "evalue": "name 'data1' is not defined",
     "traceback": [
      "\u001b[1;31m---------------------------------------------------------------------------\u001b[0m",
      "\u001b[1;31mNameError\u001b[0m                                 Traceback (most recent call last)",
      "\u001b[1;32m<ipython-input-28-b4056dd0e162>\u001b[0m in \u001b[0;36m<module>\u001b[1;34m\u001b[0m\n\u001b[0;32m      8\u001b[0m     \u001b[0mdisplay\u001b[0m\u001b[1;33m(\u001b[0m\u001b[0mapibutton1\u001b[0m\u001b[1;33m)\u001b[0m\u001b[1;33m\u001b[0m\u001b[1;33m\u001b[0m\u001b[0m\n\u001b[0;32m      9\u001b[0m \u001b[1;33m\u001b[0m\u001b[0m\n\u001b[1;32m---> 10\u001b[1;33m \u001b[0mprintgraphs\u001b[0m\u001b[1;33m(\u001b[0m\u001b[1;33m)\u001b[0m\u001b[1;33m\u001b[0m\u001b[1;33m\u001b[0m\u001b[0m\n\u001b[0m\u001b[0;32m     11\u001b[0m \u001b[1;33m\u001b[0m\u001b[0m\n\u001b[0;32m     12\u001b[0m \u001b[1;33m\u001b[0m\u001b[0m\n",
      "\u001b[1;32m<ipython-input-28-b4056dd0e162>\u001b[0m in \u001b[0;36mprintgraphs\u001b[1;34m()\u001b[0m\n\u001b[0;32m      1\u001b[0m \u001b[1;32mdef\u001b[0m \u001b[0mprintgraphs\u001b[0m\u001b[1;33m(\u001b[0m\u001b[1;33m)\u001b[0m\u001b[1;33m:\u001b[0m\u001b[1;33m\u001b[0m\u001b[1;33m\u001b[0m\u001b[0m\n\u001b[1;32m----> 2\u001b[1;33m     \u001b[0mwrangledata1\u001b[0m\u001b[1;33m(\u001b[0m\u001b[1;33m)\u001b[0m\u001b[1;33m\u001b[0m\u001b[1;33m\u001b[0m\u001b[0m\n\u001b[0m\u001b[0;32m      3\u001b[0m     \u001b[0mtimeseriesdf1\u001b[0m\u001b[1;33m=\u001b[0m\u001b[0mpd\u001b[0m\u001b[1;33m.\u001b[0m\u001b[0mread_pickle\u001b[0m\u001b[1;33m(\u001b[0m\u001b[1;34m\"timeseriesdf1.pkl\"\u001b[0m\u001b[1;33m)\u001b[0m\u001b[1;33m\u001b[0m\u001b[1;33m\u001b[0m\u001b[0m\n\u001b[0;32m      4\u001b[0m     \u001b[0mgraph1\u001b[0m\u001b[1;33m=\u001b[0m\u001b[0mwdg\u001b[0m\u001b[1;33m.\u001b[0m\u001b[0minteractive_output\u001b[0m\u001b[1;33m(\u001b[0m\u001b[0mtimeseries1_graph\u001b[0m\u001b[1;33m,\u001b[0m \u001b[1;33m{\u001b[0m\u001b[1;34m'gcols'\u001b[0m\u001b[1;33m:\u001b[0m \u001b[0mseries1\u001b[0m\u001b[1;33m,\u001b[0m \u001b[1;34m'gscale'\u001b[0m\u001b[1;33m:\u001b[0m \u001b[0mscale1\u001b[0m\u001b[1;33m}\u001b[0m\u001b[1;33m)\u001b[0m\u001b[1;33m\u001b[0m\u001b[1;33m\u001b[0m\u001b[0m\n\u001b[0;32m      5\u001b[0m     \u001b[0mctrls1\u001b[0m\u001b[1;33m=\u001b[0m\u001b[0mwdg\u001b[0m\u001b[1;33m.\u001b[0m\u001b[0mVBox\u001b[0m\u001b[1;33m(\u001b[0m\u001b[1;33m[\u001b[0m\u001b[0mseries1\u001b[0m\u001b[1;33m,\u001b[0m \u001b[0mscale1\u001b[0m\u001b[1;33m]\u001b[0m\u001b[1;33m)\u001b[0m\u001b[1;33m\u001b[0m\u001b[1;33m\u001b[0m\u001b[0m\n",
      "\u001b[1;32m<ipython-input-23-c220898df750>\u001b[0m in \u001b[0;36mwrangledata1\u001b[1;34m()\u001b[0m\n\u001b[0;32m      5\u001b[0m \u001b[1;33m\u001b[0m\u001b[0m\n\u001b[0;32m      6\u001b[0m \u001b[1;32mdef\u001b[0m \u001b[0mwrangledata1\u001b[0m\u001b[1;33m(\u001b[0m\u001b[1;33m)\u001b[0m\u001b[1;33m:\u001b[0m\u001b[1;33m\u001b[0m\u001b[1;33m\u001b[0m\u001b[0m\n\u001b[1;32m----> 7\u001b[1;33m     \u001b[0mdatalist1\u001b[0m \u001b[1;33m=\u001b[0m\u001b[0mdata1\u001b[0m\u001b[1;33m[\u001b[0m\u001b[1;34m'data'\u001b[0m\u001b[1;33m]\u001b[0m\u001b[1;33m\u001b[0m\u001b[1;33m\u001b[0m\u001b[0m\n\u001b[0m\u001b[0;32m      8\u001b[0m     \u001b[0mdates1\u001b[0m \u001b[1;33m=\u001b[0m \u001b[1;33m[\u001b[0m\u001b[0mdictionary\u001b[0m \u001b[1;33m[\u001b[0m\u001b[1;34m'date'\u001b[0m\u001b[1;33m]\u001b[0m \u001b[1;32mfor\u001b[0m \u001b[0mdictionary\u001b[0m \u001b[1;32min\u001b[0m \u001b[0mdatalist1\u001b[0m \u001b[1;33m]\u001b[0m\u001b[1;33m\u001b[0m\u001b[1;33m\u001b[0m\u001b[0m\n\u001b[0;32m      9\u001b[0m     \u001b[0mdates1\u001b[0m\u001b[1;33m.\u001b[0m\u001b[0msort\u001b[0m\u001b[1;33m(\u001b[0m\u001b[1;33m)\u001b[0m\u001b[1;33m\u001b[0m\u001b[1;33m\u001b[0m\u001b[0m\n",
      "\u001b[1;31mNameError\u001b[0m: name 'data1' is not defined"
     ]
    }
   ],
   "source": [
    "\n",
    "def printgraphs(): \n",
    "    wrangledata1()\n",
    "    timeseriesdf1=pd.read_pickle(\"timeseriesdf1.pkl\")\n",
    "    graph1=wdg.interactive_output(timeseries1_graph, {'gcols': series1, 'gscale': scale1})\n",
    "    ctrls1=wdg.VBox([series1, scale1])\n",
    "    form1=wdg.HBox([graph1, ctrls1])\n",
    "    display(form1)\n",
    "    display(apibutton1)\n",
    "\n",
    "printgraphs()\n",
    "\n",
    "\n",
    "def access_api1(b):\n",
    "    updatedata1()\n",
    "    wrangledata1()\n",
    "    printgraphs()\n",
    "    current=scale1.value\n",
    "    if current==scale1.options[0]:\n",
    "        other=scale1.options[1]\n",
    "    else:\n",
    "        other=scale1.options[0]\n",
    "    scale1.value=other \n",
    "    scale1.value=current\n",
    "\n",
    "apibutton1.on_click(access_api1)\n",
    "\n"
   ]
  },
  {
   "cell_type": "code",
   "execution_count": null,
   "metadata": {},
   "outputs": [],
   "source": []
  },
  {
   "cell_type": "markdown",
   "metadata": {},
   "source": [
    "**Data source: *Based on UK Government [data](https://coronavirus.data.gov.uk/) published by [Public Health England](https://www.gov.uk/government/organisations/public-health-england).*\n",
    "\n",
    "**DIY Covid-19 Dashboard Kit Resource: (https://github.com/fsmeraldi/diy-covid19dash) (C) , 2020 ([f.smeraldi@qmul.ac.uk](mailto:f.smeraldi@qmul.ac.uk) - [web](http://www.eecs.qmul.ac.uk/~fabri/)). All rights reserved.*\n"
   ]
  }
 ],
 "metadata": {
  "kernelspec": {
   "name": "python3",
   "display_name": "Python 3.8.6 64-bit",
   "metadata": {
    "interpreter": {
     "hash": "9f275e2370a3229f2e2fb9b73f1b0a43d5bfd3109520eaedb36292f04c1d575a"
    }
   }
  },
  "language_info": {
   "codemirror_mode": {
    "name": "ipython",
    "version": 3
   },
   "file_extension": ".py",
   "mimetype": "text/x-python",
   "name": "python",
   "nbconvert_exporter": "python",
   "pygments_lexer": "ipython3",
   "version": "3.8.6-final"
  }
 },
 "nbformat": 4,
 "nbformat_minor": 4
}