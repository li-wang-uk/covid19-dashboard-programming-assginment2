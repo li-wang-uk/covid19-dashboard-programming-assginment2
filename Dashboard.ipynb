{
 "cells": [
  {
   "cell_type": "markdown",
   "metadata": {},
   "source": [
    "[DIY Covid-19 Dashboard Kit](https://github.com/fsmeraldi/diy-covid19dash) (C) Fabrizio Smeraldi, 2020 ([f.smeraldi@qmul.ac.uk](mailto:f.smeraldi@qmul.ac.uk) - [web](http://www.eecs.qmul.ac.uk/~fabri/)). All rights reserved."
   ]
  },
  {
   "source": [
    "Student Number: 200149271"
   ],
   "cell_type": "markdown",
   "metadata": {}
  },
  {
   "source": [
    "# DIY Covid-19 Dashboard \n",
    "-Overview of comparison among daliy new cases, the number of curried tests and the number of planed tests in the Unied Kingdom"
   ],
   "cell_type": "markdown",
   "metadata": {}
  },
  {
   "cell_type": "code",
   "execution_count": 33,
   "metadata": {},
   "outputs": [],
   "source": [
    "import ipywidgets as wdg\n",
    "import pandas as pd\n",
    "import numpy as np\n",
    "import matplotlib.pyplot as plt\n",
    "import json\n",
    "from uk_covid19 import Cov19API"
   ]
  },
  {
   "cell_type": "code",
   "execution_count": 35,
   "metadata": {},
   "outputs": [],
   "source": [
    "%matplotlib inline\n",
    "# make figures larger\n",
    "plt.rcParams['figure.dpi'] = 100"
   ]
  },
  {
   "cell_type": "markdown",
   "metadata": {},
   "source": []
  },
  {
   "cell_type": "code",
   "execution_count": 36,
   "metadata": {
    "tags": []
   },
   "outputs": [],
   "source": [
    "## Load initial data \n",
    "filters1= [\n",
    "    'areaType=overview'\n",
    "]\n",
    "\n",
    "structure1= {\n",
    "    \"date\":\"date\",\n",
    "    \"NewCases\":\"newCasesByPublishDate\",\n",
    "    \"CurriedTests\":\"newTestsByPublishDate\",\n",
    "    \"PlanedTested\":\"plannedCapacityByPublishDate\"\n",
    "}\n",
    "api2 = Cov19API (filters=filters1, structure=structure1)\n",
    "testsdistribution=api2.get_json()\n",
    "with open(\"testsdistribution.json\", \"wt\") as OUTF:\n",
    "    json.dump(testsdistribution, OUTF)\n"
   ]
  },
  {
   "cell_type": "markdown",
   "metadata": {},
   "source": [
    "\n"
   ]
  },
  {
   "cell_type": "code",
   "execution_count": 37,
   "metadata": {},
   "outputs": [],
   "source": [
    "## Wrangle the data\n",
    "with open(\"testsdistribution.json\", \"rt\") as INFIFLE1:\n",
    "    data1 =json.load(INFIFLE1)\n",
    "datalist1 =data1['data']\n",
    "dates1 = [dictionary ['date'] for dictionary in datalist1 ]\n",
    "dates1.sort()\n",
    "def parse_date1 (datestring):\n",
    "    return pd.to_datetime(datestring, format=\"%Y-%m-%d\")\n",
    "startdate1 =parse_date1(dates1[0])\n",
    "enddate1 =parse_date1(dates1[-1])\n",
    "index1 =pd.date_range(startdate1, enddate1, freq='D')\n",
    "timeseriesdf1=pd.DataFrame(index=index1, columns=['NewCases','CurriedTests', 'PlanedTested'])\n",
    "for entry in datalist1: \n",
    "    dates1=parse_date1(entry['date'])\n",
    "    for column in ['NewCases','CurriedTests', 'PlanedTested']:\n",
    "        if pd.isna(timeseriesdf1.loc[dates1, column]): \n",
    "            value1= float(entry[column]) if entry[column]!=None else 0.0\n",
    "            timeseriesdf1.loc[dates1, column]=value1\n",
    "timeseriesdf1.fillna(0.0, inplace=True)\n",
    "timeseriesdf1.to_pickle(\"timeseriesdf1.pkl\")\n",
    "\n"
   ]
  },
  {
   "cell_type": "markdown",
   "metadata": {},
   "source": []
  },
  {
   "cell_type": "markdown",
   "metadata": {},
   "source": []
  },
  {
   "cell_type": "code",
   "execution_count": 38,
   "metadata": {},
   "outputs": [],
   "source": [
    "## Download current data\n",
    "def access_api1(button):\n",
    "    # Ignore the parameter, put code for polling the API here\n",
    "    print(\"I'm downloading data from the API...\")\n",
    "    print(\"...all done.\")\n",
    "apibutton1=wdg.Button(\n",
    "    description='Refresh data',\n",
    "    disabled=False,\n",
    "    button_style='', # 'success', 'info', 'warning', 'danger' or ''\n",
    "    tooltip='Click to download current Public Health England data',\n",
    "    icon='download' # (FontAwesome names without the `fa-` prefix)\n",
    ")\n",
    "\n"
   ]
  },
  {
   "cell_type": "markdown",
   "metadata": {},
   "source": []
  },
  {
   "source": [
    "\n",
    "NewCases:  New cases by publish date\n",
    "\n",
    "CurriedTests: :newTestsByPublishDate\n",
    "\n",
    "PlanedTested : planned Capacity By Publish Date"
   ],
   "cell_type": "markdown",
   "metadata": {}
  },
  {
   "cell_type": "code",
   "execution_count": 39,
   "metadata": {},
   "outputs": [
    {
     "output_type": "display_data",
     "data": {
      "text/plain": "Button(description='Refresh data', icon='download', style=ButtonStyle(), tooltip='Click to download current Pu…",
      "application/vnd.jupyter.widget-view+json": {
       "version_major": 2,
       "version_minor": 0,
       "model_id": "0a9a7dbe4e3c435d91b5e135aa72d865"
      }
     },
     "metadata": {}
    },
    {
     "output_type": "display_data",
     "data": {
      "text/plain": "HBox(children=(Output(), VBox(children=(SelectMultiple(description='Stats:', index=(0, 1, 2), options=('NewCas…",
      "application/vnd.jupyter.widget-view+json": {
       "version_major": 2,
       "version_minor": 0,
       "model_id": "d6ae687e00024ae4abf4057d10c4e620"
      }
     },
     "metadata": {}
    }
   ],
   "source": [
    "## Graphs and Analysis\n",
    "apibutton1.on_click(access_api1)\n",
    "display(apibutton1)\n",
    "timeseriesdf1=pd.read_pickle(\"timeseriesdf1.pkl\")\n",
    "\n",
    "series1=wdg.SelectMultiple(\n",
    "    options=['NewCases', 'CurriedTests', 'PlanedTested'],\n",
    "    value=['NewCases', 'CurriedTests', 'PlanedTested'],\n",
    "    rows=3,\n",
    "    description='Stats:',\n",
    "    disabled=False\n",
    ")\n",
    "\n",
    "scale1=wdg.RadioButtons(\n",
    "    options=['linear', 'log'],\n",
    "    description='Scale:',\n",
    "    disabled=False\n",
    ")\n",
    "\n",
    "controls1=wdg.HBox([series1, scale1])\n",
    "\n",
    "def timeseries1_graph(gcols, gscale):\n",
    "    if gscale=='linear':\n",
    "        logscale=False\n",
    "    else:\n",
    "        logscale=True\n",
    "    ncols=len(gcols)\n",
    "    if ncols>0:\n",
    "        timeseriesdf1[list(gcols)].plot(logy=logscale)\n",
    "    else:\n",
    "        print(\"Click to select data for graph\")\n",
    "        print(\"(CTRL-Click to select more than one category)\")\n",
    "\n",
    "graph1=wdg.interactive_output(timeseries1_graph, {'gcols': series1, 'gscale': scale1})\n",
    "\n",
    "ctrls1=wdg.VBox([series1, scale1])\n",
    "form1=wdg.HBox([graph1, ctrls1])\n",
    "display(form1)\n"
   ]
  },
  {
   "cell_type": "markdown",
   "metadata": {},
   "source": [
    "**Data source: *Based on UK Government [data](https://coronavirus.data.gov.uk/) published by [Public Health England](https://www.gov.uk/government/organisations/public-health-england).*\n"
   ]
  }
 ],
 "metadata": {
  "kernelspec": {
   "display_name": "Python 3",
   "language": "python",
   "name": "python3"
  },
  "language_info": {
   "codemirror_mode": {
    "name": "ipython",
    "version": 3
   },
   "file_extension": ".py",
   "mimetype": "text/x-python",
   "name": "python",
   "nbconvert_exporter": "python",
   "pygments_lexer": "ipython3",
   "version": "3.8.3-final"
  }
 },
 "nbformat": 4,
 "nbformat_minor": 4
}