{
 "cells": [
  {
   "cell_type": "markdown",
   "metadata": {},
   "source": [
    "DIY Covid-19 Dashboard Li Wang (l.wang@se20.qmul.ac.uk Student Number: 200149271) All rights reserved."
   ]
  },
  {
   "source": [
    "# DIY Covid-19 Dashboard"
   ],
   "cell_type": "markdown",
   "metadata": {}
  },
  {
   "source": [
    "\n",
    "NewCases:  New Cases By Publish Date\n",
    "\n",
    "CurriedTests: :New Tests By Publish Date\n",
    "\n",
    "PlanedTested : Planned Capacity By Publish Date"
   ],
   "cell_type": "markdown",
   "metadata": {}
  },
  {
   "cell_type": "code",
   "execution_count": 49,
   "metadata": {},
   "outputs": [],
   "source": [
    "import ipywidgets as wdg\n",
    "import pandas as pd\n",
    "import numpy as np\n",
    "import matplotlib.pyplot as plt\n",
    "import json\n",
    "from uk_covid19 import Cov19API\n",
    "%matplotlib inline\n",
    "# make figures larger\n",
    "plt.rcParams['figure.dpi'] = 100"
   ]
  },
  {
   "cell_type": "code",
   "execution_count": 50,
   "metadata": {},
   "outputs": [],
   "source": [
    "## Get data from API\n",
    "def updatedata1():\n",
    "    filters1= [\n",
    "        'areaType=overview'\n",
    "    ]\n",
    "    structure1= {\n",
    "         \"date\":\"date\",\n",
    "         \"NewCases\":\"newCasesByPublishDate\",\n",
    "         \"CurriedTests\":\"newTestsByPublishDate\",\n",
    "         \"PlanedTested\":\"plannedCapacityByPublishDate\"\n",
    "          }\n",
    "    api2 = Cov19API (filters=filters1, structure=structure1)\n",
    "    testsdistribution=api2.get_json()\n",
    "    with open(\"testsdistribution.json\", \"wt\") as OUTF:\n",
    "         json.dump(testsdistribution, OUTF)"
   ]
  },
  {
   "cell_type": "code",
   "execution_count": 51,
   "metadata": {},
   "outputs": [],
   "source": [
    "## Wrangle Data\n",
    "def parse_date1 (datestring):\n",
    "    return pd.to_datetime(datestring, format=\"%Y-%m-%d\")\n",
    "\n",
    "def wrangledata1():\n",
    "    with open(\"testsdistribution.json\", \"rt\") as INFIFLE1:\n",
    "         data1 =json.load(INFIFLE1)\n",
    "    datalist1 =data1['data']\n",
    "    dates1 = [dictionary ['date'] for dictionary in datalist1 ]\n",
    "    dates1.sort()\n",
    "    startdate1 =parse_date1(dates1[0])\n",
    "    enddate1 =parse_date1(dates1[-1])\n",
    "    index1 =pd.date_range(startdate1, enddate1, freq='D')\n",
    "    timeseriesdf1=pd.DataFrame(index=index1, columns=['NewCases','CurriedTests', 'PlanedTested'])\n",
    "    for entry in datalist1: \n",
    "        dates1=parse_date1(entry['date'])\n",
    "        for column in ['NewCases','CurriedTests', 'PlanedTested']:\n",
    "            if pd.isna(timeseriesdf1.loc[dates1, column]): \n",
    "                value1= float(entry[column]) if entry[column]!=None else 0.0\n",
    "                timeseriesdf1.loc[dates1, column]=value1\n",
    "    timeseriesdf1.fillna(0.0, inplace=True)\n",
    "    timeseriesdf1.to_pickle(\"timeseriesdf1.pkl\")"
   ]
  },
  {
   "cell_type": "code",
   "execution_count": 52,
   "metadata": {},
   "outputs": [],
   "source": [
    "##Graphs\n",
    "series1=wdg.SelectMultiple(\n",
    "    options=['NewCases', 'CurriedTests', 'PlanedTested'],\n",
    "    value=['NewCases', 'CurriedTests', 'PlanedTested'],\n",
    "    rows=3,\n",
    "    description='Stats:',\n",
    "    disabled=False\n",
    ")\n",
    "scale1=wdg.RadioButtons(\n",
    "    options=['linear', 'log'],\n",
    "    description='Scale:',\n",
    "    disabled=False\n",
    ")\n",
    "apibutton1=wdg.Button(\n",
    "    description='update data',\n",
    "    disabled=False,\n",
    "    button_style='info', \n",
    "    tooltip='Click to download current Public Health England data',\n",
    "    icon='refresh' \n",
    ")\n",
    "controls1=wdg.HBox([series1, scale1,apibutton1])"
   ]
  },
  {
   "cell_type": "code",
   "execution_count": 53,
   "metadata": {},
   "outputs": [],
   "source": [
    "def timeseries1_graph(gcols, gscale):\n",
    "    if gscale=='linear':\n",
    "        logscale=False\n",
    "    else:\n",
    "        logscale=True\n",
    "    ncols=len(gcols)\n",
    "    if ncols>0:\n",
    "        timeseriesdf1[list(gcols)].plot(logy=logscale)\n",
    "    else:\n",
    "        print(\"Click to select data for graph\")\n",
    "        print(\"(CTRL-Click to select more than one category)\")"
   ]
  },
  {
   "cell_type": "code",
   "execution_count": 54,
   "metadata": {},
   "outputs": [],
   "source": [
    "##update data by press the button\n",
    "def access_api1(button):\n",
    "    updatedata1()\n",
    "    wrangledata1()\n",
    "    global timeseriesdf1\n",
    "    timeseriesdf1=pd.read_pickle(\"timeseriesdf1.pkl\")\n",
    "    current=scale1.value\n",
    "    if current==scale1.options[0]:\n",
    "        other=scale1.options[1]\n",
    "    else:\n",
    "        other=scale1.options[0]\n",
    "    scale1.value=other \n",
    "    scale1.value=current "
   ]
  },
  {
   "cell_type": "code",
   "execution_count": 55,
   "metadata": {},
   "outputs": [
    {
     "output_type": "display_data",
     "data": {
      "text/plain": "HBox(children=(SelectMultiple(description='Stats:', index=(0, 1, 2), options=('NewCases', 'CurriedTests', 'Pla…",
      "application/vnd.jupyter.widget-view+json": {
       "version_major": 2,
       "version_minor": 0,
       "model_id": "d68e2b35b44d4506b62fbf5d00fe9a0c"
      }
     },
     "metadata": {}
    },
    {
     "output_type": "display_data",
     "data": {
      "text/plain": "Output()",
      "application/vnd.jupyter.widget-view+json": {
       "version_major": 2,
       "version_minor": 0,
       "model_id": "196714df8a31479e83c3bf61d29a2e44"
      }
     },
     "metadata": {}
    },
    {
     "output_type": "stream",
     "name": "stdout",
     "text": [
      "The data is up to date until 2020-11-27 00:00:00\n"
     ]
    }
   ],
   "source": [
    "## Graphs and Analysis\n",
    "apibutton1.on_click(access_api1) \n",
    "wrangledata1()\n",
    "timeseriesdf1=pd.read_pickle(\"timeseriesdf1.pkl\")\n",
    "graph=wdg.interactive_output(timeseries1_graph, {'gcols': series1, 'gscale': scale1})\n",
    "display(controls1, graph)"
   ]
  },
  {
   "cell_type": "markdown",
   "metadata": {},
   "source": [
    "**Data source: *Based on UK Government [data](https://coronavirus.data.gov.uk/) published by [Public Health England](https://www.gov.uk/government/organisations/public-health-england).*\n",
    "\n",
    "**DIY Covid-19 Dashboard Kit Resource: (https://github.com/fsmeraldi/diy-covid19dash) (C) , 2020 ([f.smeraldi@qmul.ac.uk](mailto:f.smeraldi@qmul.ac.uk) - [web](http://www.eecs.qmul.ac.uk/~fabri/)). All rights reserved.*\n"
   ]
  },
  {
   "source": [],
   "cell_type": "markdown",
   "metadata": {}
  },
  {
   "cell_type": "code",
   "execution_count": null,
   "metadata": {},
   "outputs": [],
   "source": []
  }
 ],
 "metadata": {
  "kernelspec": {
   "name": "python3",
   "display_name": "Python 3.8.6 64-bit",
   "metadata": {
    "interpreter": {
     "hash": "9f275e2370a3229f2e2fb9b73f1b0a43d5bfd3109520eaedb36292f04c1d575a"
    }
   }
  },
  "language_info": {
   "codemirror_mode": {
    "name": "ipython",
    "version": 3
   },
   "file_extension": ".py",
   "mimetype": "text/x-python",
   "name": "python",
   "nbconvert_exporter": "python",
   "pygments_lexer": "ipython3",
   "version": "3.8.6-final"
  }
 },
 "nbformat": 4,
 "nbformat_minor": 4
}
